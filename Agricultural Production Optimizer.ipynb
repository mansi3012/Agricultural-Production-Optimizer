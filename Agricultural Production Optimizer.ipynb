{
 "cells": [
  {
   "cell_type": "code",
   "execution_count": 1,
   "metadata": {},
   "outputs": [],
   "source": [
    "import numpy as np\n",
    "import pandas as pd\n",
    "\n",
    "import matplotlib.pyplot as plt\n",
    "import seaborn as sb\n",
    "\n",
    "from ipywidgets import interact"
   ]
  },
  {
   "cell_type": "code",
   "execution_count": 2,
   "metadata": {},
   "outputs": [],
   "source": [
    "data = pd.read_csv('data.csv')"
   ]
  },
  {
   "cell_type": "code",
   "execution_count": 3,
   "metadata": {},
   "outputs": [
    {
     "data": {
      "text/plain": [
       "(2200, 8)"
      ]
     },
     "execution_count": 3,
     "metadata": {},
     "output_type": "execute_result"
    }
   ],
   "source": [
    "data.shape"
   ]
  },
  {
   "cell_type": "code",
   "execution_count": 4,
   "metadata": {},
   "outputs": [
    {
     "data": {
      "text/html": [
       "<div>\n",
       "<style scoped>\n",
       "    .dataframe tbody tr th:only-of-type {\n",
       "        vertical-align: middle;\n",
       "    }\n",
       "\n",
       "    .dataframe tbody tr th {\n",
       "        vertical-align: top;\n",
       "    }\n",
       "\n",
       "    .dataframe thead th {\n",
       "        text-align: right;\n",
       "    }\n",
       "</style>\n",
       "<table border=\"1\" class=\"dataframe\">\n",
       "  <thead>\n",
       "    <tr style=\"text-align: right;\">\n",
       "      <th></th>\n",
       "      <th>N</th>\n",
       "      <th>P</th>\n",
       "      <th>K</th>\n",
       "      <th>temperature</th>\n",
       "      <th>humidity</th>\n",
       "      <th>ph</th>\n",
       "      <th>rainfall</th>\n",
       "      <th>label</th>\n",
       "    </tr>\n",
       "  </thead>\n",
       "  <tbody>\n",
       "    <tr>\n",
       "      <th>0</th>\n",
       "      <td>90</td>\n",
       "      <td>42</td>\n",
       "      <td>43</td>\n",
       "      <td>20.879744</td>\n",
       "      <td>82.002744</td>\n",
       "      <td>6.502985</td>\n",
       "      <td>202.935536</td>\n",
       "      <td>rice</td>\n",
       "    </tr>\n",
       "    <tr>\n",
       "      <th>1</th>\n",
       "      <td>85</td>\n",
       "      <td>58</td>\n",
       "      <td>41</td>\n",
       "      <td>21.770462</td>\n",
       "      <td>80.319644</td>\n",
       "      <td>7.038096</td>\n",
       "      <td>226.655537</td>\n",
       "      <td>rice</td>\n",
       "    </tr>\n",
       "    <tr>\n",
       "      <th>2</th>\n",
       "      <td>60</td>\n",
       "      <td>55</td>\n",
       "      <td>44</td>\n",
       "      <td>23.004459</td>\n",
       "      <td>82.320763</td>\n",
       "      <td>7.840207</td>\n",
       "      <td>263.964248</td>\n",
       "      <td>rice</td>\n",
       "    </tr>\n",
       "    <tr>\n",
       "      <th>3</th>\n",
       "      <td>74</td>\n",
       "      <td>35</td>\n",
       "      <td>40</td>\n",
       "      <td>26.491096</td>\n",
       "      <td>80.158363</td>\n",
       "      <td>6.980401</td>\n",
       "      <td>242.864034</td>\n",
       "      <td>rice</td>\n",
       "    </tr>\n",
       "    <tr>\n",
       "      <th>4</th>\n",
       "      <td>78</td>\n",
       "      <td>42</td>\n",
       "      <td>42</td>\n",
       "      <td>20.130175</td>\n",
       "      <td>81.604873</td>\n",
       "      <td>7.628473</td>\n",
       "      <td>262.717340</td>\n",
       "      <td>rice</td>\n",
       "    </tr>\n",
       "  </tbody>\n",
       "</table>\n",
       "</div>"
      ],
      "text/plain": [
       "    N   P   K  temperature   humidity        ph    rainfall label\n",
       "0  90  42  43    20.879744  82.002744  6.502985  202.935536  rice\n",
       "1  85  58  41    21.770462  80.319644  7.038096  226.655537  rice\n",
       "2  60  55  44    23.004459  82.320763  7.840207  263.964248  rice\n",
       "3  74  35  40    26.491096  80.158363  6.980401  242.864034  rice\n",
       "4  78  42  42    20.130175  81.604873  7.628473  262.717340  rice"
      ]
     },
     "execution_count": 4,
     "metadata": {},
     "output_type": "execute_result"
    }
   ],
   "source": [
    "data.head()"
   ]
  },
  {
   "cell_type": "code",
   "execution_count": 5,
   "metadata": {},
   "outputs": [
    {
     "data": {
      "text/plain": [
       "N              0\n",
       "P              0\n",
       "K              0\n",
       "temperature    0\n",
       "humidity       0\n",
       "ph             0\n",
       "rainfall       0\n",
       "label          0\n",
       "dtype: int64"
      ]
     },
     "execution_count": 5,
     "metadata": {},
     "output_type": "execute_result"
    }
   ],
   "source": [
    "data.isnull().sum()"
   ]
  },
  {
   "cell_type": "code",
   "execution_count": 6,
   "metadata": {},
   "outputs": [
    {
     "data": {
      "text/plain": [
       "orange         100\n",
       "jute           100\n",
       "maize          100\n",
       "cotton         100\n",
       "muskmelon      100\n",
       "mango          100\n",
       "mothbeans      100\n",
       "lentil         100\n",
       "blackgram      100\n",
       "papaya         100\n",
       "rice           100\n",
       "coffee         100\n",
       "coconut        100\n",
       "kidneybeans    100\n",
       "chickpea       100\n",
       "banana         100\n",
       "grapes         100\n",
       "mungbean       100\n",
       "apple          100\n",
       "pigeonpeas     100\n",
       "watermelon     100\n",
       "pomegranate    100\n",
       "Name: label, dtype: int64"
      ]
     },
     "execution_count": 6,
     "metadata": {},
     "output_type": "execute_result"
    }
   ],
   "source": [
    "data['label'].value_counts()"
   ]
  },
  {
   "cell_type": "code",
   "execution_count": null,
   "metadata": {},
   "outputs": [],
   "source": []
  },
  {
   "cell_type": "code",
   "execution_count": 7,
   "metadata": {},
   "outputs": [
    {
     "name": "stdout",
     "output_type": "stream",
     "text": [
      "Average Ratio of Nitrogen in the soil : 50.55\n",
      "Average Ratio of Phosphorus in the soil : 53.36\n",
      "Average Ratio of Potassium in the soil : 48.15\n",
      "Average Temperature in Celsius : 25.62\n",
      "Average Relative Humidity in % : 71.48\n",
      "Average PH value of the soil : 6.47\n",
      "Average Rainfall in mm : 103.46\n"
     ]
    }
   ],
   "source": [
    "#Summary for all the crops\n",
    "\n",
    "\n",
    "print('Average Ratio of Nitrogen in the soil : {0:.2f}'.format(data['N'].mean()))\n",
    "print('Average Ratio of Phosphorus in the soil : {0:.2f}'.format(data['P'].mean()))\n",
    "print('Average Ratio of Potassium in the soil : {0:.2f}'.format(data['K'].mean()))\n",
    "print('Average Temperature in Celsius : {0:.2f}'.format(data['temperature'].mean()))\n",
    "print('Average Relative Humidity in % : {0:.2f}'.format(data['humidity'].mean()))\n",
    "print('Average PH value of the soil : {0:.2f}'.format(data['ph'].mean()))\n",
    "print('Average Rainfall in mm : {0:.2f}'.format(data['rainfall'].mean()))"
   ]
  },
  {
   "cell_type": "code",
   "execution_count": null,
   "metadata": {},
   "outputs": [],
   "source": []
  },
  {
   "cell_type": "code",
   "execution_count": 8,
   "metadata": {},
   "outputs": [
    {
     "data": {
      "application/vnd.jupyter.widget-view+json": {
       "model_id": "af099f121eed49bf81b83c5e656714f3",
       "version_major": 2,
       "version_minor": 0
      },
      "text/plain": [
       "interactive(children=(Dropdown(description='crops', options=('orange', 'jute', 'maize', 'cotton', 'muskmelon',…"
      ]
     },
     "metadata": {},
     "output_type": "display_data"
    }
   ],
   "source": [
    "#Statistics Summary for all the crops\n",
    "\n",
    "@interact\n",
    "\n",
    "def summary(crops = list(data['label'].value_counts().index)):\n",
    "    x = data[data['label'] == crops]\n",
    "    \n",
    "    print('-----------------------------------------------------------')\n",
    "    print('Statistics for Nitrogen:')\n",
    "    print('Minimum Nitrogen required: ', x['N'].min())\n",
    "    print('Average Nitrogen required: ', x['N'].mean())    \n",
    "    print('Maximum Nitrogen required: ', x['N'].max())\n",
    "    \n",
    "    print('-----------------------------------------------------------')\n",
    "    print('Statistics for Phosphorus:')\n",
    "    print('Minimum Phosphorus required: ', x['P'].min())\n",
    "    print('Average Phosphorus required: ', x['P'].mean())    \n",
    "    print('Maximum Phosphorus required: ', x['P'].max())\n",
    "    \n",
    "    print('-----------------------------------------------------------')\n",
    "    print('Statistics for Potassium:')\n",
    "    print('Minimum Potassium required: ', x['K'].min())\n",
    "    print('Average Potassium required: ', x['K'].mean())    \n",
    "    print('Maximum Potassium required: ', x['K'].max())\n",
    "    \n",
    "    print('-----------------------------------------------------------')\n",
    "    print('Statistics for Temperature:')\n",
    "    print('Minimum Temperature required: ', x['temperature'].min())\n",
    "    print('Average Temperature required: ', x['temperature'].mean())    \n",
    "    print('Maximum Temperature required: ', x['temperature'].max())\n",
    "    \n",
    "    print('-----------------------------------------------------------')\n",
    "    print('Statistics for Humidity :')\n",
    "    print('Minimum Humidity  required: ', x['humidity'].min())\n",
    "    print('Average Humidity  required: ', x['humidity'].mean())    \n",
    "    print('Maximum Humidity  required: ', x['humidity'].max())\n",
    "    \n",
    "    print('-----------------------------------------------------------')\n",
    "    print('Statistics for PH:')\n",
    "    print('Minimum PH required: ', x['ph'].min())\n",
    "    print('Average PH required: ', x['ph'].mean())    \n",
    "    print('Maximum PH required: ', x['ph'].max())\n",
    "    \n",
    "    print('-----------------------------------------------------------')\n",
    "    print('Statistics for Rainfall:')\n",
    "    print('Minimum Rainfall required: ', x['rainfall'].min())\n",
    "    print('Average Rainfall required: ', x['rainfall'].mean())    \n",
    "    print('Maximum Rainfall required: ', x['rainfall'].max())\n",
    "\n",
    "\n",
    "    "
   ]
  },
  {
   "cell_type": "code",
   "execution_count": null,
   "metadata": {},
   "outputs": [],
   "source": []
  },
  {
   "cell_type": "code",
   "execution_count": 9,
   "metadata": {},
   "outputs": [
    {
     "data": {
      "application/vnd.jupyter.widget-view+json": {
       "model_id": "019767ce1b18450c9d3eeab059f21611",
       "version_major": 2,
       "version_minor": 0
      },
      "text/plain": [
       "interactive(children=(Dropdown(description='conditions', options=('N', 'P', 'K', 'temperature', 'humidity', 'p…"
      ]
     },
     "metadata": {},
     "output_type": "display_data"
    }
   ],
   "source": [
    "#Comparing the Average Requirements for each crops with particular Average Conditions\n",
    "\n",
    "@interact\n",
    "\n",
    "def compare(conditions = ['N','P','K','temperature','humidity','ph','rainfall']):\n",
    "    print('Average value for', conditions, 'is {0:.2f}'.format(data[conditions].mean()))\n",
    "    \n",
    "    print('-----------------------------------------------------------')\n",
    "\n",
    "    print('Maize : {0:.2f}'.format(data[(data['label'] == 'maize')][conditions].mean()))\n",
    "    print('Apple : {0:.2f}'.format(data[(data['label'] == 'apple')][conditions].mean()))\n",
    "    print('Rice : {0:.2f}'.format(data[(data['label'] == 'rice')][conditions].mean()))\n",
    "    print('Muskmelon : {0:.2f}'.format(data[(data['label'] == 'muskmelon')][conditions].mean()))\n",
    "    print('Lentil : {0:.2f}'.format(data[(data['label'] == 'lentil')][conditions].mean()))\n",
    "    print('Kidneybeans : {0:.2f}'.format(data[(data['label'] == 'kidneybeans')][conditions].mean()))\n",
    "    print('Mothbeans : {0:.2f}'.format(data[(data['label'] == 'mothbeans')][conditions].mean()))\n",
    "    print('Watermelon : {0:.2f}'.format(data[(data['label'] == 'watermelon')][conditions].mean()))\n",
    "    print('Papaya : {0:.2f}'.format(data[(data['label'] == 'papaya')][conditions].mean()))\n",
    "    print('Pigeonpeas : {0:.2f}'.format(data[(data['label'] == 'pigeonpeas')][conditions].mean()))\n",
    "    print('Mango : {0:.2f}'.format(data[(data['label'] == 'mango')][conditions].mean()))\n",
    "    print('Pomegranate : {0:.2f}'.format(data[(data['label'] == 'pomegranate')][conditions].mean()))\n",
    "    print('Coffee : {0:.2f}'.format(data[(data['label'] == 'coffee')][conditions].mean()))\n",
    "    print('Coconut : {0:.2f}'.format(data[(data['label'] == 'coconut')][conditions].mean()))\n",
    "    print('Grapes : {0:.2f}'.format(data[(data['label'] == 'grapes')][conditions].mean()))\n",
    "    print('Cotton : {0:.2f}'.format(data[(data['label'] == 'cotton')][conditions].mean()))\n",
    "    print('Blackgram : {0:.2f}'.format(data[(data['label'] == 'blackgram')][conditions].mean()))\n",
    "    print('Mungbean : {0:.2f}'.format(data[(data['label'] == 'mungbean')][conditions].mean()))\n",
    "    print('Banana : {0:.2f}'.format(data[(data['label'] == 'banana')][conditions].mean()))\n",
    "    print('Chickpea : {0:.2f}'.format(data[(data['label'] == 'chickpea')][conditions].mean()))\n",
    "    print('Orange : {0:.2f}'.format(data[(data['label'] == 'orange')][conditions].mean()))\n",
    "    print('Jute : {0:.2f}'.format(data[(data['label'] == 'jute')][conditions].mean()))\n",
    "    \n",
    "    "
   ]
  },
  {
   "cell_type": "code",
   "execution_count": null,
   "metadata": {},
   "outputs": [],
   "source": []
  },
  {
   "cell_type": "code",
   "execution_count": 10,
   "metadata": {},
   "outputs": [
    {
     "data": {
      "application/vnd.jupyter.widget-view+json": {
       "model_id": "0c2dc4cf0f084b8894415087faf5b76e",
       "version_major": 2,
       "version_minor": 0
      },
      "text/plain": [
       "interactive(children=(Dropdown(description='conditions', options=('N', 'P', 'K', 'temperature', 'humidity', 'p…"
      ]
     },
     "metadata": {},
     "output_type": "display_data"
    }
   ],
   "source": [
    "@interact\n",
    "def compare(conditions=['N','P','K','temperature','humidity','ph','rainfall']):\n",
    "    print('Crops which require greater than average', conditions,'\\n')\n",
    "    print(data[data[conditions] > data[conditions].mean()]['label'].unique(),'\\n')\n",
    "       \n",
    "    print('-----------------------------------------------------------------------------------------------\\n')\n",
    "\n",
    "    print('Crops which require less than average', conditions,'\\n')\n",
    "    print(data[data[conditions] < data[conditions].mean()]['label'].unique())\n",
    "    "
   ]
  },
  {
   "cell_type": "code",
   "execution_count": null,
   "metadata": {},
   "outputs": [],
   "source": []
  },
  {
   "cell_type": "code",
   "execution_count": 11,
   "metadata": {},
   "outputs": [
    {
     "data": {
      "image/png": "[encoded data removed]",
      "text/plain": [
       "<Figure size 720x360 with 8 Axes>"
      ]
     },
     "metadata": {
      "needs_background": "light"
     },
     "output_type": "display_data"
    }
   ],
   "source": [
    "f, axes = plt.subplots(2,4, figsize=(10,5))\n",
    "\n",
    "plt.subplot(2, 4, 1)\n",
    "sb.distplot(data['N'], color = 'darkblue')\n",
    "plt.xlabel('Ratio of Nitrogen', fontsize=12)\n",
    "plt.grid()\n",
    "\n",
    "plt.subplot(2, 4, 2)\n",
    "sb.distplot(data['P'], color = 'black')\n",
    "plt.xlabel('Ratio of Phosphorus', fontsize=12)\n",
    "plt.grid()\n",
    "\n",
    "plt.subplot(2, 4, 3)\n",
    "sb.distplot(data['K'], color = 'red')\n",
    "plt.xlabel('Ratio of Potassium', fontsize=12)\n",
    "plt.grid()\n",
    "\n",
    "plt.subplot(2, 4, 4)\n",
    "sb.distplot(data['temperature'], color = 'grey')\n",
    "plt.xlabel('Temperature', fontsize=12)\n",
    "plt.grid()\n",
    "\n",
    "plt.subplot(2, 4, 5)\n",
    "sb.distplot(data['humidity'], color = 'lightgreen')\n",
    "plt.xlabel('Humidity', fontsize=12)\n",
    "plt.grid()\n",
    "\n",
    "plt.subplot(2, 4, 6)\n",
    "sb.distplot(data['ph'], color = 'darkgreen')\n",
    "plt.xlabel('pH level', fontsize=12)\n",
    "plt.grid()\n",
    "\n",
    "plt.subplot(2, 4, 7)\n",
    "sb.distplot(data['rainfall'], color = 'orange')\n",
    "plt.xlabel('Rainfall', fontsize=12)\n",
    "plt.grid()\n",
    "\n",
    "axes[1,3].set_axis_off()\n",
    "\n",
    "plt.suptitle('Distribution for Agricultural Conditions', fontsize=15, y =1.1)\n",
    "plt.tight_layout()\n",
    "plt.show()\n"
   ]
  },
  {
   "cell_type": "code",
   "execution_count": null,
   "metadata": {},
   "outputs": [],
   "source": []
  },
  {
   "cell_type": "code",
   "execution_count": 12,
   "metadata": {},
   "outputs": [
    {
     "name": "stdout",
     "output_type": "stream",
     "text": [
      "Some Interesting Patterns\n",
      "-----------------------------------------------------------------------------------------------------------\n",
      "Crops which requires very High Ratio of Nitrogen Content in Soil: ['cotton']\n",
      "Crops which requires very High Ratio of Phosphorus Content in Soil: ['grapes' 'apple']\n",
      "Crops which requires very High Ratio of Potassium Content in Soil: ['grapes' 'apple']\n",
      "Crops which requires very High Temperature: ['grapes' 'papaya']\n",
      "Crops which requires very Low Temperature: ['grapes']\n",
      "Crops which requires very Low Humidity: ['chickpea' 'kidneybeans']\n",
      "Crops which requires very High Rainfall: ['rice' 'papaya' 'coconut']\n",
      "Crops which requires very High pH: ['mothbeans']\n",
      "Crops which requires very Low pH: ['mothbeans']\n"
     ]
    }
   ],
   "source": [
    "print('Some Interesting Patterns')\n",
    "print('-----------------------------------------------------------------------------------------------------------')\n",
    "print('Crops which requires very High Ratio of Nitrogen Content in Soil:',data[data['N'] > 120]['label'].unique())\n",
    "print('Crops which requires very High Ratio of Phosphorus Content in Soil:',data[data['P'] > 100]['label'].unique())\n",
    "print('Crops which requires very High Ratio of Potassium Content in Soil:',data[data['K'] > 200]['label'].unique())\n",
    "print('Crops which requires very High Temperature:',data[data['temperature'] > 40]['label'].unique())\n",
    "print('Crops which requires very Low Temperature:',data[data['temperature'] < 10]['label'].unique())\n",
    "print('Crops which requires very Low Humidity:',data[data['humidity'] < 20]['label'].unique())\n",
    "print('Crops which requires very High Rainfall:',data[data['rainfall'] > 200]['label'].unique())\n",
    "print('Crops which requires very High pH:',data[data['ph'] > 9]['label'].unique())\n",
    "print('Crops which requires very Low pH:',data[data['ph'] < 4]['label'].unique())"
   ]
  },
  {
   "cell_type": "code",
   "execution_count": null,
   "metadata": {},
   "outputs": [],
   "source": []
  },
  {
   "cell_type": "code",
   "execution_count": 13,
   "metadata": {},
   "outputs": [
    {
     "name": "stdout",
     "output_type": "stream",
     "text": [
      "Summer Crops:\n",
      "['pigeonpeas' 'mothbeans' 'blackgram' 'mango' 'grapes' 'orange' 'papaya'] \n",
      "\n",
      "\n",
      "Winter Crops:\n",
      "['maize' 'pigeonpeas' 'lentil' 'pomegranate' 'grapes' 'orange'] \n",
      "\n",
      "\n",
      "Monsoon Crops:\n",
      "['rice' 'papaya' 'coconut']\n"
     ]
    }
   ],
   "source": [
    "print('Summer Crops:')\n",
    "print(data[(data['temperature'] > 30) & (data['humidity'] > 50)]['label'].unique(),'\\n\\n')\n",
    "\n",
    "print('Winter Crops:')\n",
    "print(data[(data['temperature'] < 20) & (data['humidity'] > 30)]['label'].unique(),'\\n\\n')\n",
    "\n",
    "print('Monsoon Crops:')\n",
    "print(data[(data['rainfall'] > 200) & (data['humidity'] > 30)]['label'].unique())"
   ]
  },
  {
   "cell_type": "code",
   "execution_count": null,
   "metadata": {},
   "outputs": [],
   "source": []
  },
  {
   "cell_type": "code",
   "execution_count": 14,
   "metadata": {},
   "outputs": [
    {
     "name": "stdout",
     "output_type": "stream",
     "text": [
      "(2200, 7)\n"
     ]
    }
   ],
   "source": [
    "from sklearn.cluster import KMeans\n",
    "\n",
    "x = data.drop(['label'], axis = 1)\n",
    "x = x.values\n",
    "\n",
    "print(x.shape)"
   ]
  },
  {
   "cell_type": "code",
   "execution_count": 15,
   "metadata": {},
   "outputs": [
    {
     "data": {
      "image/png": "[encoded data removed]",
      "text/plain": [
       "<Figure size 720x288 with 1 Axes>"
      ]
     },
     "metadata": {
      "needs_background": "light"
     },
     "output_type": "display_data"
    }
   ],
   "source": [
    "# Determining the Optimum Number of Clusters within the Dataset\n",
    "\n",
    "plt.rcParams['figure.figsize'] = (10,4)\n",
    "\n",
    "wcss = []\n",
    "for i in range(1,11):\n",
    "    km = KMeans(n_clusters = i, init = 'k-means++', max_iter = 300, n_init = 10, random_state = 0)\n",
    "    km.fit(x)\n",
    "    wcss.append(km.inertia_)\n",
    "    \n",
    "plt.plot(range(1,11),wcss)\n",
    "plt.title('The Elbow Method', fontsize=20)\n",
    "plt.xlabel('Number of Clusters')\n",
    "plt.ylabel('wcss')\n",
    "plt.show()"
   ]
  },
  {
   "cell_type": "code",
   "execution_count": null,
   "metadata": {},
   "outputs": [],
   "source": []
  },
  {
   "cell_type": "code",
   "execution_count": 16,
   "metadata": {},
   "outputs": [
    {
     "name": "stdout",
     "output_type": "stream",
     "text": [
      "Lets check the Results after applying the KMeans Clustering Analysis\n",
      "\n",
      "Crops in First Cluster:\n",
      " ['maize' 'chickpea' 'kidneybeans' 'pigeonpeas' 'mothbeans' 'mungbean'\n",
      " 'blackgram' 'lentil' 'pomegranate' 'mango' 'orange' 'papaya' 'coconut'] \n",
      "\n",
      "Crops in Second Cluster:\n",
      " ['maize' 'banana' 'watermelon' 'muskmelon' 'papaya' 'cotton' 'coffee'] \n",
      "\n",
      "Crops in Third Cluster:\n",
      " ['grapes' 'apple'] \n",
      "\n",
      "Crops in Fourth Cluster:\n",
      " ['rice' 'pigeonpeas' 'papaya' 'coconut' 'jute' 'coffee'] \n",
      "\n"
     ]
    }
   ],
   "source": [
    "# Implementing KMeans algorithm to perform Clustering Analysis\n",
    "\n",
    "km = KMeans(n_clusters = 4, init = 'k-means++', max_iter = 300, n_init = 10, random_state = 0)\n",
    "y_means = km.fit_predict(x)\n",
    "\n",
    "a = data['label']\n",
    "y_means = pd.DataFrame(y_means)\n",
    "z = pd.concat([y_means,a], axis=1)\n",
    "z = z.rename(columns = {0: 'cluster'})\n",
    "\n",
    "print('Lets check the Results after applying the KMeans Clustering Analysis\\n')\n",
    "print('Crops in First Cluster:\\n',z[z['cluster'] == 0]['label'].unique(),'\\n')\n",
    "print('Crops in Second Cluster:\\n', z[z['cluster'] == 1]['label'].unique(),'\\n')\n",
    "print('Crops in Third Cluster:\\n', z[z['cluster'] == 2]['label'].unique(),'\\n')\n",
    "print('Crops in Fourth Cluster:\\n', z[z['cluster'] == 3]['label'].unique(),'\\n')"
   ]
  },
  {
   "cell_type": "code",
   "execution_count": null,
   "metadata": {},
   "outputs": [],
   "source": []
  },
  {
   "cell_type": "code",
   "execution_count": 17,
   "metadata": {},
   "outputs": [
    {
     "name": "stdout",
     "output_type": "stream",
     "text": [
      "Shape of x: (2200, 7)\n",
      "Shape of y: (2200,)\n"
     ]
    }
   ],
   "source": [
    "y = data['label']\n",
    "x = data.drop(['label'], axis=1)\n",
    "\n",
    "print('Shape of x:', x.shape)\n",
    "print('Shape of y:', y.shape)"
   ]
  },
  {
   "cell_type": "code",
   "execution_count": null,
   "metadata": {},
   "outputs": [],
   "source": []
  },
  {
   "cell_type": "code",
   "execution_count": 18,
   "metadata": {},
   "outputs": [
    {
     "name": "stdout",
     "output_type": "stream",
     "text": [
      "The shape of x train: (1760, 7)\n",
      "The shape of x test: (440, 7)\n",
      "The shape of y train: (1760,)\n",
      "The shape of y test: (440,)\n"
     ]
    }
   ],
   "source": [
    "from sklearn.model_selection import train_test_split\n",
    "\n",
    "x_train, x_test, y_train, y_test = train_test_split(x, y, test_size = 0.2, random_state = 0)\n",
    "\n",
    "print('The shape of x train:', x_train.shape)\n",
    "print('The shape of x test:', x_test.shape)\n",
    "print('The shape of y train:', y_train.shape)\n",
    "print('The shape of y test:', y_test.shape)"
   ]
  },
  {
   "cell_type": "code",
   "execution_count": null,
   "metadata": {},
   "outputs": [],
   "source": []
  },
  {
   "cell_type": "code",
   "execution_count": 19,
   "metadata": {},
   "outputs": [
    {
     "name": "stderr",
     "output_type": "stream",
     "text": [
      "C:\\Users\\patel\\Anaconda3\\lib\\site-packages\\sklearn\\linear_model\\logistic.py:432: FutureWarning: Default solver will be changed to 'lbfgs' in 0.22. Specify a solver to silence this warning.\n",
      "  FutureWarning)\n",
      "C:\\Users\\patel\\Anaconda3\\lib\\site-packages\\sklearn\\linear_model\\logistic.py:469: FutureWarning: Default multi_class will be changed to 'auto' in 0.22. Specify the multi_class option to silence this warning.\n",
      "  \"this warning.\", FutureWarning)\n"
     ]
    }
   ],
   "source": [
    "# Predictive Model\n",
    "\n",
    "from sklearn.linear_model import LogisticRegression\n",
    "\n",
    "model = LogisticRegression()\n",
    "model.fit(x_train, y_train)\n",
    "y_pred = model.predict(x_test)"
   ]
  },
  {
   "cell_type": "code",
   "execution_count": null,
   "metadata": {},
   "outputs": [],
   "source": []
  },
  {
   "cell_type": "code",
   "execution_count": 20,
   "metadata": {},
   "outputs": [
    {
     "data": {
      "image/png": "[encoded data removed]",
      "text/plain": [
       "<Figure size 720x720 with 2 Axes>"
      ]
     },
     "metadata": {
      "needs_background": "light"
     },
     "output_type": "display_data"
    }
   ],
   "source": [
    "from sklearn.metrics import confusion_matrix\n",
    "\n",
    "plt.rcParams['figure.figsize'] = (10,10)\n",
    "cm = confusion_matrix(y_test,y_pred)\n",
    "sb.heatmap(cm, annot=True, cmap='Wistia')\n",
    "plt.title('Confusion Matrix for Logistic Regression', fontsize=12)\n",
    "plt.show()"
   ]
  },
  {
   "cell_type": "code",
   "execution_count": 21,
   "metadata": {},
   "outputs": [
    {
     "name": "stdout",
     "output_type": "stream",
     "text": [
      "              precision    recall  f1-score   support\n",
      "\n",
      "       apple       1.00      1.00      1.00        18\n",
      "      banana       1.00      0.94      0.97        18\n",
      "   blackgram       0.88      1.00      0.94        22\n",
      "    chickpea       1.00      1.00      1.00        23\n",
      "     coconut       1.00      1.00      1.00        15\n",
      "      coffee       1.00      1.00      1.00        17\n",
      "      cotton       0.89      1.00      0.94        16\n",
      "      grapes       1.00      1.00      1.00        18\n",
      "        jute       0.86      0.86      0.86        21\n",
      " kidneybeans       0.95      1.00      0.98        20\n",
      "      lentil       1.00      0.88      0.94        17\n",
      "       maize       1.00      0.89      0.94        18\n",
      "       mango       1.00      1.00      1.00        21\n",
      "   mothbeans       1.00      0.84      0.91        25\n",
      "    mungbean       0.94      1.00      0.97        17\n",
      "   muskmelon       1.00      1.00      1.00        23\n",
      "      orange       1.00      1.00      1.00        23\n",
      "      papaya       0.87      0.95      0.91        21\n",
      "  pigeonpeas       0.95      0.95      0.95        22\n",
      " pomegranate       1.00      1.00      1.00        23\n",
      "        rice       0.88      0.88      0.88        25\n",
      "  watermelon       1.00      1.00      1.00        17\n",
      "\n",
      "    accuracy                           0.96       440\n",
      "   macro avg       0.96      0.96      0.96       440\n",
      "weighted avg       0.96      0.96      0.96       440\n",
      "\n"
     ]
    }
   ],
   "source": [
    "from sklearn.metrics.classification import classification_report\n",
    "\n",
    "cr = classification_report(y_test,y_pred)\n",
    "print(cr)\n"
   ]
  },
  {
   "cell_type": "code",
   "execution_count": null,
   "metadata": {},
   "outputs": [],
   "source": []
  },
  {
   "cell_type": "code",
   "execution_count": 22,
   "metadata": {},
   "outputs": [
    {
     "data": {
      "text/html": [
       "<div>\n",
       "<style scoped>\n",
       "    .dataframe tbody tr th:only-of-type {\n",
       "        vertical-align: middle;\n",
       "    }\n",
       "\n",
       "    .dataframe tbody tr th {\n",
       "        vertical-align: top;\n",
       "    }\n",
       "\n",
       "    .dataframe thead th {\n",
       "        text-align: right;\n",
       "    }\n",
       "</style>\n",
       "<table border=\"1\" class=\"dataframe\">\n",
       "  <thead>\n",
       "    <tr style=\"text-align: right;\">\n",
       "      <th></th>\n",
       "      <th>N</th>\n",
       "      <th>P</th>\n",
       "      <th>K</th>\n",
       "      <th>temperature</th>\n",
       "      <th>humidity</th>\n",
       "      <th>ph</th>\n",
       "      <th>rainfall</th>\n",
       "      <th>label</th>\n",
       "    </tr>\n",
       "  </thead>\n",
       "  <tbody>\n",
       "    <tr>\n",
       "      <th>0</th>\n",
       "      <td>90</td>\n",
       "      <td>42</td>\n",
       "      <td>43</td>\n",
       "      <td>20.879744</td>\n",
       "      <td>82.002744</td>\n",
       "      <td>6.502985</td>\n",
       "      <td>202.935536</td>\n",
       "      <td>rice</td>\n",
       "    </tr>\n",
       "    <tr>\n",
       "      <th>1</th>\n",
       "      <td>85</td>\n",
       "      <td>58</td>\n",
       "      <td>41</td>\n",
       "      <td>21.770462</td>\n",
       "      <td>80.319644</td>\n",
       "      <td>7.038096</td>\n",
       "      <td>226.655537</td>\n",
       "      <td>rice</td>\n",
       "    </tr>\n",
       "    <tr>\n",
       "      <th>2</th>\n",
       "      <td>60</td>\n",
       "      <td>55</td>\n",
       "      <td>44</td>\n",
       "      <td>23.004459</td>\n",
       "      <td>82.320763</td>\n",
       "      <td>7.840207</td>\n",
       "      <td>263.964248</td>\n",
       "      <td>rice</td>\n",
       "    </tr>\n",
       "    <tr>\n",
       "      <th>3</th>\n",
       "      <td>74</td>\n",
       "      <td>35</td>\n",
       "      <td>40</td>\n",
       "      <td>26.491096</td>\n",
       "      <td>80.158363</td>\n",
       "      <td>6.980401</td>\n",
       "      <td>242.864034</td>\n",
       "      <td>rice</td>\n",
       "    </tr>\n",
       "    <tr>\n",
       "      <th>4</th>\n",
       "      <td>78</td>\n",
       "      <td>42</td>\n",
       "      <td>42</td>\n",
       "      <td>20.130175</td>\n",
       "      <td>81.604873</td>\n",
       "      <td>7.628473</td>\n",
       "      <td>262.717340</td>\n",
       "      <td>rice</td>\n",
       "    </tr>\n",
       "  </tbody>\n",
       "</table>\n",
       "</div>"
      ],
      "text/plain": [
       "    N   P   K  temperature   humidity        ph    rainfall label\n",
       "0  90  42  43    20.879744  82.002744  6.502985  202.935536  rice\n",
       "1  85  58  41    21.770462  80.319644  7.038096  226.655537  rice\n",
       "2  60  55  44    23.004459  82.320763  7.840207  263.964248  rice\n",
       "3  74  35  40    26.491096  80.158363  6.980401  242.864034  rice\n",
       "4  78  42  42    20.130175  81.604873  7.628473  262.717340  rice"
      ]
     },
     "execution_count": 22,
     "metadata": {},
     "output_type": "execute_result"
    }
   ],
   "source": [
    "data.head()"
   ]
  },
  {
   "cell_type": "code",
   "execution_count": 23,
   "metadata": {},
   "outputs": [
    {
     "name": "stdout",
     "output_type": "stream",
     "text": [
      "The Suggest Crop for given Climatic Conditions is: ['coffee']\n"
     ]
    }
   ],
   "source": [
    "prediction = model.predict((np.array([[100,53,40,20,40,7,200]])))\n",
    "\n",
    "print('The Suggest Crop for given Climatic Conditions is:', prediction)"
   ]
  },
  {
   "cell_type": "code",
   "execution_count": null,
   "metadata": {},
   "outputs": [],
   "source": []
  }
 ],
 "metadata": {
  "kernelspec": {
   "display_name": "Python 3",
   "language": "python",
   "name": "python3"
  },
  "language_info": {
   "codemirror_mode": {
    "name": "ipython",
    "version": 3
   },
   "file_extension": ".py",
   "mimetype": "text/x-python",
   "name": "python",
   "nbconvert_exporter": "python",
   "pygments_lexer": "ipython3",
   "version": "3.7.1"
  }
 },
 "nbformat": 4,
 "nbformat_minor": 2
}
